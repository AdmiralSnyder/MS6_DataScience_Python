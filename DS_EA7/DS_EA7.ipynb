{
 "cells": [
  {
   "cell_type": "markdown",
   "metadata": {},
   "source": [
    "Following is research data for investigating the disease situation in a given area. This research recruits volunteers who must be at least 40 years old.\n"
   ]
  },
  {
   "cell_type": "code",
   "execution_count": 144,
   "metadata": {},
   "outputs": [],
   "source": [
    "#%pip install matplotlib\n",
    "\n",
    "import pandas as pd\n",
    "import numpy as np\n",
    "import math\n",
    "import matplotlib.pyplot as plt"
   ]
  },
  {
   "cell_type": "markdown",
   "metadata": {},
   "source": [
    "\n",
    "# There are two files containing the patient's information\n",
    "\n",
    "Patient_information:"
   ]
  },
  {
   "cell_type": "code",
   "execution_count": 145,
   "metadata": {},
   "outputs": [],
   "source": [
    "patientInfoURL= \"https://raw.githubusercontent.com/WHPAN0108/BHT-DataScience-S24/main/data_clean/data/patient_info.csv\"\n",
    "#\"https://github.com/WHPAN0108/BHT-DataScience-S24/blob/main/data_clean/data/patient_info.csv\""
   ]
  },
  {
   "cell_type": "markdown",
   "metadata": {},
   "source": [
    "\n",
    "- Patient_ID: numeric the patient id with 7 digits\n",
    "- Sex: string Male or Female\n",
    "- Age: numeric The Age of recruitment\n",
    "- BMI: numeric Body Mass Index, should be between 15-60\n",
    "- Smoking_status: string Never, Previous, current, Prefer not to answer\n",
    "- Disease: factor 1 means disease, 2 means healthy\n"
   ]
  },
  {
   "cell_type": "code",
   "execution_count": 146,
   "metadata": {},
   "outputs": [],
   "source": [
    "patientInfo = pd.read_csv(patientInfoURL, delimiter=',')"
   ]
  },
  {
   "cell_type": "markdown",
   "metadata": {},
   "source": [
    "\n",
    "Hospital Visit:\n"
   ]
  },
  {
   "cell_type": "code",
   "execution_count": 147,
   "metadata": {},
   "outputs": [],
   "source": [
    "dateURL= \"https://raw.githubusercontent.com/WHPAN0108/BHT-DataScience-S24/main/data_clean/data/date.csv\"\n",
    "#\"https://github.com/WHPAN0108/BHT-DataScience-S24/blob/main/data_clean/data/date.csv\""
   ]
  },
  {
   "cell_type": "markdown",
   "metadata": {},
   "source": [
    "- Patient_ID: numeric the patient id with 7 digits\n",
    "- VisitDate: Date, the date of the patient's visit hospital. the data is collected from the year 1950 to 2023\n"
   ]
  },
  {
   "cell_type": "code",
   "execution_count": 148,
   "metadata": {},
   "outputs": [],
   "source": [
    "dateData = pd.read_csv(dateURL, delimiter=',')"
   ]
  },
  {
   "cell_type": "markdown",
   "metadata": {},
   "source": [
    "\n",
    "# Task : Data Clean & EDA\n"
   ]
  },
  {
   "cell_type": "markdown",
   "metadata": {},
   "source": [
    "\n",
    "- Replace missing BMI values with the median BMI for the corresponding gender."
   ]
  },
  {
   "cell_type": "code",
   "execution_count": 149,
   "metadata": {},
   "outputs": [
    {
     "name": "stdout",
     "output_type": "stream",
     "text": [
      "male median: 28.2451 female median: 28.08285\n"
     ]
    },
    {
     "data": {
      "text/html": [
       "<div>\n",
       "<style scoped>\n",
       "    .dataframe tbody tr th:only-of-type {\n",
       "        vertical-align: middle;\n",
       "    }\n",
       "\n",
       "    .dataframe tbody tr th {\n",
       "        vertical-align: top;\n",
       "    }\n",
       "\n",
       "    .dataframe thead th {\n",
       "        text-align: right;\n",
       "    }\n",
       "</style>\n",
       "<table border=\"1\" class=\"dataframe\">\n",
       "  <thead>\n",
       "    <tr style=\"text-align: right;\">\n",
       "      <th></th>\n",
       "      <th>Participant_ID</th>\n",
       "      <th>Sex</th>\n",
       "      <th>Age</th>\n",
       "      <th>Smoking_status</th>\n",
       "      <th>BMI</th>\n",
       "      <th>Disease</th>\n",
       "    </tr>\n",
       "  </thead>\n",
       "  <tbody>\n",
       "    <tr>\n",
       "      <th>0</th>\n",
       "      <td>1003300</td>\n",
       "      <td>Male</td>\n",
       "      <td>62</td>\n",
       "      <td>Previous</td>\n",
       "      <td>33.7597</td>\n",
       "      <td>2</td>\n",
       "    </tr>\n",
       "    <tr>\n",
       "      <th>1</th>\n",
       "      <td>1004025</td>\n",
       "      <td>Male</td>\n",
       "      <td>60</td>\n",
       "      <td>Previous</td>\n",
       "      <td>28.1173</td>\n",
       "      <td>1</td>\n",
       "    </tr>\n",
       "    <tr>\n",
       "      <th>2</th>\n",
       "      <td>1005551</td>\n",
       "      <td>Male</td>\n",
       "      <td>69</td>\n",
       "      <td>Previous</td>\n",
       "      <td>26.4159</td>\n",
       "      <td>2</td>\n",
       "    </tr>\n",
       "    <tr>\n",
       "      <th>3</th>\n",
       "      <td>1005594</td>\n",
       "      <td>Male</td>\n",
       "      <td>64</td>\n",
       "      <td>Previous</td>\n",
       "      <td>24.7550</td>\n",
       "      <td>1</td>\n",
       "    </tr>\n",
       "    <tr>\n",
       "      <th>4</th>\n",
       "      <td>1005624</td>\n",
       "      <td>Male</td>\n",
       "      <td>64</td>\n",
       "      <td>Previous</td>\n",
       "      <td>35.0773</td>\n",
       "      <td>2</td>\n",
       "    </tr>\n",
       "    <tr>\n",
       "      <th>...</th>\n",
       "      <td>...</td>\n",
       "      <td>...</td>\n",
       "      <td>...</td>\n",
       "      <td>...</td>\n",
       "      <td>...</td>\n",
       "      <td>...</td>\n",
       "    </tr>\n",
       "    <tr>\n",
       "      <th>2211</th>\n",
       "      <td>6009769</td>\n",
       "      <td>Male</td>\n",
       "      <td>48</td>\n",
       "      <td>Previous</td>\n",
       "      <td>39.3345</td>\n",
       "      <td>2</td>\n",
       "    </tr>\n",
       "    <tr>\n",
       "      <th>2212</th>\n",
       "      <td>6011693</td>\n",
       "      <td>Male</td>\n",
       "      <td>62</td>\n",
       "      <td>Previous</td>\n",
       "      <td>30.8813</td>\n",
       "      <td>2</td>\n",
       "    </tr>\n",
       "    <tr>\n",
       "      <th>2213</th>\n",
       "      <td>6015403</td>\n",
       "      <td>Female</td>\n",
       "      <td>60</td>\n",
       "      <td>Previous</td>\n",
       "      <td>34.7276</td>\n",
       "      <td>1</td>\n",
       "    </tr>\n",
       "    <tr>\n",
       "      <th>2214</th>\n",
       "      <td>6019982</td>\n",
       "      <td>Male</td>\n",
       "      <td>54</td>\n",
       "      <td>Never</td>\n",
       "      <td>25.3287</td>\n",
       "      <td>2</td>\n",
       "    </tr>\n",
       "    <tr>\n",
       "      <th>2215</th>\n",
       "      <td>6020094</td>\n",
       "      <td>Female</td>\n",
       "      <td>63</td>\n",
       "      <td>Never</td>\n",
       "      <td>24.2972</td>\n",
       "      <td>2</td>\n",
       "    </tr>\n",
       "  </tbody>\n",
       "</table>\n",
       "<p>2216 rows × 6 columns</p>\n",
       "</div>"
      ],
      "text/plain": [
       "      Participant_ID     Sex  Age Smoking_status      BMI  Disease\n",
       "0            1003300    Male   62       Previous  33.7597        2\n",
       "1            1004025    Male   60       Previous  28.1173        1\n",
       "2            1005551    Male   69       Previous  26.4159        2\n",
       "3            1005594    Male   64       Previous  24.7550        1\n",
       "4            1005624    Male   64       Previous  35.0773        2\n",
       "...              ...     ...  ...            ...      ...      ...\n",
       "2211         6009769    Male   48       Previous  39.3345        2\n",
       "2212         6011693    Male   62       Previous  30.8813        2\n",
       "2213         6015403  Female   60       Previous  34.7276        1\n",
       "2214         6019982    Male   54          Never  25.3287        2\n",
       "2215         6020094  Female   63          Never  24.2972        2\n",
       "\n",
       "[2216 rows x 6 columns]"
      ]
     },
     "execution_count": 149,
     "metadata": {},
     "output_type": "execute_result"
    }
   ],
   "source": [
    "patientInfo.count()\n",
    "# -> columns with missing values: Smoking_status, BMI, Disease\n",
    "males = patientInfo[patientInfo['Sex'] == \"Male\"]\n",
    "females = patientInfo[patientInfo['Sex'] == \"Female\"]\n",
    "# i first tested if all rows either are Sex=Male or Sex=Female by comparing the counts of the entire dataset with the sum of the counts of the two subsets\n",
    "# print(patientInfo.count())\n",
    "# print (males[\"Sex\"].count())\n",
    "# print (females[\"Sex\"].count())\n",
    "maleBmiMedian = males[\"BMI\"].median()\n",
    "femaleBmiMedian = females[\"BMI\"].median()\n",
    "print(\"male median: \" + str(maleBmiMedian) + \" female median: \" + str(femaleBmiMedian))\n",
    "\n",
    "patientInfo1 = patientInfo.copy()\n",
    "\n",
    "def cleanBMI(x):\n",
    "    if pd.isna(x[\"BMI\"]): # took me a while to figure out to use .isna() instead of == np.nan\n",
    "        x[\"BMI\"]=maleBmiMedian if x[\"Sex\"] == \"Male\" else femaleBmiMedian\n",
    "    return x\n",
    "\n",
    "#  apparently, apply creates a copy.\n",
    "patientInfoFilledBMI = patientInfo.apply(cleanBMI, axis=1)\n",
    "\n",
    "# print(patientInfoCleanedBMI.count())\n",
    "# print(patientInfo.count())\n",
    "patientInfoFilledBMI\n"
   ]
  },
  {
   "cell_type": "markdown",
   "metadata": {},
   "source": [
    "- Perform a sanity check on all columns in both files, and remove any samples that do not pass."
   ]
  },
  {
   "cell_type": "code",
   "execution_count": 150,
   "metadata": {},
   "outputs": [
    {
     "data": {
      "text/html": [
       "<div>\n",
       "<style scoped>\n",
       "    .dataframe tbody tr th:only-of-type {\n",
       "        vertical-align: middle;\n",
       "    }\n",
       "\n",
       "    .dataframe tbody tr th {\n",
       "        vertical-align: top;\n",
       "    }\n",
       "\n",
       "    .dataframe thead th {\n",
       "        text-align: right;\n",
       "    }\n",
       "</style>\n",
       "<table border=\"1\" class=\"dataframe\">\n",
       "  <thead>\n",
       "    <tr style=\"text-align: right;\">\n",
       "      <th></th>\n",
       "      <th>Participant_ID</th>\n",
       "      <th>Sex</th>\n",
       "      <th>Age</th>\n",
       "      <th>Smoking_status</th>\n",
       "      <th>BMI</th>\n",
       "      <th>Disease</th>\n",
       "    </tr>\n",
       "  </thead>\n",
       "  <tbody>\n",
       "    <tr>\n",
       "      <th>741</th>\n",
       "      <td>2766416</td>\n",
       "      <td>Male</td>\n",
       "      <td>6</td>\n",
       "      <td>Never</td>\n",
       "      <td>32.13</td>\n",
       "      <td>2</td>\n",
       "    </tr>\n",
       "  </tbody>\n",
       "</table>\n",
       "</div>"
      ],
      "text/plain": [
       "     Participant_ID   Sex  Age Smoking_status    BMI  Disease\n",
       "741         2766416  Male    6          Never  32.13        2"
      ]
     },
     "execution_count": 150,
     "metadata": {},
     "output_type": "execute_result"
    }
   ],
   "source": [
    "patientInfoFilledBMI[patientInfoFilledBMI[\"Age\"] == 6]"
   ]
  },
  {
   "cell_type": "markdown",
   "metadata": {},
   "source": []
  },
  {
   "cell_type": "code",
   "execution_count": 151,
   "metadata": {},
   "outputs": [
    {
     "name": "stdout",
     "output_type": "stream",
     "text": [
      "[array(['Male', 'Female'], dtype=object), array([ 6, 40, 41, 42, 43, 44, 45, 46, 47, 48, 49, 50, 51, 52, 53, 54, 55,\n",
      "       56, 57, 58, 59, 60, 61, 62, 63, 64, 65, 66, 67, 68, 69, 70],\n",
      "      dtype=int64), array(['Previous', 'Never', 'Current', 'Prefer not to answer', nan],\n",
      "      dtype=object), 100.357, -31.4133, array([-31.4133,  16.0037,  16.0995, ...,  53.4857,  58.9468, 100.357 ]), array([2, 1], dtype=int64)]\n",
      "\n",
      "removed 6 patient rows and 97 visit rows in sanity check.\n"
     ]
    },
    {
     "data": {
      "text/html": [
       "<div>\n",
       "<style scoped>\n",
       "    .dataframe tbody tr th:only-of-type {\n",
       "        vertical-align: middle;\n",
       "    }\n",
       "\n",
       "    .dataframe tbody tr th {\n",
       "        vertical-align: top;\n",
       "    }\n",
       "\n",
       "    .dataframe thead th {\n",
       "        text-align: right;\n",
       "    }\n",
       "</style>\n",
       "<table border=\"1\" class=\"dataframe\">\n",
       "  <thead>\n",
       "    <tr style=\"text-align: right;\">\n",
       "      <th></th>\n",
       "      <th>Participant_ID</th>\n",
       "      <th>VisitDate</th>\n",
       "      <th>date</th>\n",
       "    </tr>\n",
       "  </thead>\n",
       "  <tbody>\n",
       "    <tr>\n",
       "      <th>0</th>\n",
       "      <td>1003300</td>\n",
       "      <td>1/7/2022</td>\n",
       "      <td>2022-07-01</td>\n",
       "    </tr>\n",
       "    <tr>\n",
       "      <th>1</th>\n",
       "      <td>1003300</td>\n",
       "      <td>27/10/2021</td>\n",
       "      <td>2021-10-27</td>\n",
       "    </tr>\n",
       "    <tr>\n",
       "      <th>2</th>\n",
       "      <td>1004025</td>\n",
       "      <td>19/05/2010</td>\n",
       "      <td>2010-05-19</td>\n",
       "    </tr>\n",
       "    <tr>\n",
       "      <th>3</th>\n",
       "      <td>1005551</td>\n",
       "      <td>25/08/2021</td>\n",
       "      <td>2021-08-25</td>\n",
       "    </tr>\n",
       "    <tr>\n",
       "      <th>4</th>\n",
       "      <td>1005551</td>\n",
       "      <td>29/06/2021</td>\n",
       "      <td>2021-06-29</td>\n",
       "    </tr>\n",
       "    <tr>\n",
       "      <th>...</th>\n",
       "      <td>...</td>\n",
       "      <td>...</td>\n",
       "      <td>...</td>\n",
       "    </tr>\n",
       "    <tr>\n",
       "      <th>2886</th>\n",
       "      <td>6011693</td>\n",
       "      <td>27/10/2017</td>\n",
       "      <td>2017-10-27</td>\n",
       "    </tr>\n",
       "    <tr>\n",
       "      <th>2887</th>\n",
       "      <td>6015403</td>\n",
       "      <td>14/08/2018</td>\n",
       "      <td>2018-08-14</td>\n",
       "    </tr>\n",
       "    <tr>\n",
       "      <th>2888</th>\n",
       "      <td>6019982</td>\n",
       "      <td>19/01/2015</td>\n",
       "      <td>2015-01-19</td>\n",
       "    </tr>\n",
       "    <tr>\n",
       "      <th>2889</th>\n",
       "      <td>6020094</td>\n",
       "      <td>13/06/2021</td>\n",
       "      <td>2021-06-13</td>\n",
       "    </tr>\n",
       "    <tr>\n",
       "      <th>2890</th>\n",
       "      <td>6020094</td>\n",
       "      <td>22/04/2022</td>\n",
       "      <td>2022-04-22</td>\n",
       "    </tr>\n",
       "  </tbody>\n",
       "</table>\n",
       "<p>2794 rows × 3 columns</p>\n",
       "</div>"
      ],
      "text/plain": [
       "      Participant_ID   VisitDate       date\n",
       "0            1003300    1/7/2022 2022-07-01\n",
       "1            1003300  27/10/2021 2021-10-27\n",
       "2            1004025  19/05/2010 2010-05-19\n",
       "3            1005551  25/08/2021 2021-08-25\n",
       "4            1005551  29/06/2021 2021-06-29\n",
       "...              ...         ...        ...\n",
       "2886         6011693  27/10/2017 2017-10-27\n",
       "2887         6015403  14/08/2018 2018-08-14\n",
       "2888         6019982  19/01/2015 2015-01-19\n",
       "2889         6020094  13/06/2021 2021-06-13\n",
       "2890         6020094  22/04/2022 2022-04-22\n",
       "\n",
       "[2794 rows x 3 columns]"
      ]
     },
     "execution_count": 151,
     "metadata": {},
     "output_type": "execute_result"
    }
   ],
   "source": [
    "# i used Excel to quicky check whether the participant IDs are 7-digit numbers in both files. They are.\n",
    "\n",
    "initialPatientRowCount = patientInfoFilledBMI[\"Participant_ID\"].count()\n",
    "print(\n",
    "    [patientInfoFilledBMI[\"Sex\"].unique(),\n",
    "    # just a sanity check.\n",
    "    np.sort(patientInfoFilledBMI[\"Age\"].unique()),\n",
    "    # the age of 6 is probably a typo, and less than the minimum age of 40 years. I will remove it.\n",
    "    patientInfoFilledBMI[\"Smoking_status\"].unique(),\n",
    "    # the smoking status of \"nan\" is an outlier. I will remove it.\n",
    "    patientInfoFilledBMI[\"BMI\"].max(),\n",
    "    # a BMI of > 100 feels wrong. I will remove it.\n",
    "    patientInfoFilledBMI[\"BMI\"].min(),\n",
    "    np.sort(patientInfoFilledBMI[\"BMI\"]),\n",
    "    # a negative BMI is impossible. I will remove it.\n",
    "    patientInfoFilledBMI[\"Disease\"].unique()]\n",
    "    # there's only two values for Desease: 1 and 2. I will keep them.\n",
    "    )\n",
    "# this way i can see the outliers.\n",
    "print()\n",
    "\n",
    "patientInfoClearedAge = patientInfoFilledBMI.drop(patientInfoFilledBMI[patientInfoFilledBMI[\"Age\"] == 6].index)\n",
    "#np.sort(patientInfoClearedAge[\"Age\"].unique())\n",
    "patientInfoCleanedSmokingStatus = patientInfoClearedAge.drop(patientInfoClearedAge[patientInfoClearedAge[\"Smoking_status\"].isna()].index)\n",
    "# patientInfoCleanedSmokingStatus[\"Smoking_status\"].unique(),\n",
    "patientInfoCleanedBmi = patientInfoCleanedSmokingStatus.drop(patientInfoClearedAge[patientInfoClearedAge[\"BMI\"] < 15].index)\n",
    "patientInfoClearedBmi = patientInfoCleanedBmi.drop(patientInfoCleanedBmi[patientInfoCleanedBmi[\"BMI\"] > 60].index)\n",
    "#np.sort(patientInfoClearedBmi[\"BMI\"])\n",
    "finalPatientRowCount = patientInfoClearedBmi[\"Participant_ID\"].count()\n",
    "\n",
    "initialVisitRowCount = dateData[\"Participant_ID\"].count()\n",
    "\n",
    "dateData.count() # there are a couple of rows with missing values in the VisitDate column. I will remove them.\n",
    "dateDataCleaned = dateData.drop(dateData[dateData[\"VisitDate\"].isna()].index)\n",
    "# I'm checking for outliers in the VisitDate column. to do this, i will convert the column to a datetime object:\n",
    "dateDataCleaned[\"date\"] = pd.to_datetime(dateDataCleaned[\"VisitDate\"], format='mixed', dayfirst=True)\n",
    "  # print([np.sort(dateDataCleaned[\"date\"])])\n",
    "# using this output is saw: \n",
    "  # the date \"8/1/1700\" is an outlier. I will remove it.\n",
    "dateDataCleaned = dateDataCleaned.drop(dateDataCleaned[dateDataCleaned[\"VisitDate\"] == \"8/1/1700\"].index)\n",
    "  # the date \"13/1/2025\" is in the future. I will remove it.\n",
    "dateDataCleaned = dateDataCleaned.drop(dateDataCleaned[dateDataCleaned[\"VisitDate\"] == \"13/01/2025\"].index)\n",
    "\n",
    "# I remove the \"date\" rows referring to participants that are not in the patientInfoClearedBmi dataset anymore.\n",
    "dateDataCleared = dateDataCleaned[dateDataCleaned[\"Participant_ID\"].isin(patientInfoClearedBmi[\"Participant_ID\"])]\n",
    "#dateDataCleared = dateDataCleaned\n",
    "finalVisitRowCount = dateDataCleared[\"Participant_ID\"].count()\n",
    "dateDataCleared.count()\n",
    "print(\"removed \" + str(initialPatientRowCount - finalPatientRowCount) + \" patient rows and \" + str(initialVisitRowCount - finalVisitRowCount) + \" visit rows in sanity check.\")\n",
    "dateDataCleared"
   ]
  },
  {
   "cell_type": "markdown",
   "metadata": {},
   "source": [
    "- Calculate the number of visits each patient made since 1/1/2020. If the VisitDate is missing, it indicates no visits during this period."
   ]
  },
  {
   "cell_type": "code",
   "execution_count": 152,
   "metadata": {},
   "outputs": [
    {
     "name": "stderr",
     "output_type": "stream",
     "text": [
      "C:\\Users\\Alexa\\AppData\\Local\\Temp\\ipykernel_17664\\1753455884.py:9: DeprecationWarning: DataFrameGroupBy.apply operated on the grouping columns. This behavior is deprecated, and in a future version of pandas the grouping columns will be excluded from the operation. Either pass `include_groups=False` to exclude the groupings or explicitly select the grouping columns after groupby to silence this warning.\n",
      "  visitsAfter2020 = dateDataCleared.groupby(\"Participant_ID\").apply(countVisitsAfter2020)\n"
     ]
    },
    {
     "data": {
      "text/plain": [
       "Participant_ID\n",
       "1003300    2\n",
       "1004025    0\n",
       "1005551    2\n",
       "1005594    1\n",
       "1005624    1\n",
       "          ..\n",
       "6009769    0\n",
       "6011693    2\n",
       "6015403    0\n",
       "6019982    0\n",
       "6020094    2\n",
       "Length: 2126, dtype: int64"
      ]
     },
     "execution_count": 152,
     "metadata": {},
     "output_type": "execute_result"
    }
   ],
   "source": [
    "mindate = pd.to_datetime(\"1/1/2020\")\n",
    "\n",
    "def countVisitsAfter2020(x):\n",
    "    count = 0;\n",
    "    for date in x[\"date\"]:\n",
    "        if date >= mindate:\n",
    "            count += 1\n",
    "    return count\n",
    "visitsAfter2020 = dateDataCleared.groupby(\"Participant_ID\").apply(countVisitsAfter2020)\n",
    "visitsAfter2020\n"
   ]
  },
  {
   "cell_type": "markdown",
   "metadata": {},
   "source": [
    "## According to an answer YOU gave during the lecture, we shall use the restricted data ( > 1.1.2020) for the rest of the tasks. I therefore replace dateDataCleared:\n"
   ]
  },
  {
   "cell_type": "code",
   "execution_count": 153,
   "metadata": {},
   "outputs": [],
   "source": [
    "\n",
    "dateDataCleared = dateDataCleared[dateDataCleared[\"date\"] > pd.to_datetime(\"1/1/2020\")]"
   ]
  },
  {
   "cell_type": "markdown",
   "metadata": {},
   "source": [
    "\n",
    "- Create a summary table and/or chart showing the number of visits for each month (irrespective of the year)."
   ]
  },
  {
   "cell_type": "code",
   "execution_count": 175,
   "metadata": {},
   "outputs": [
    {
     "name": "stdout",
     "output_type": "stream",
     "text": [
      "    Month  Visits\n",
      "0       1      65\n",
      "1       2      62\n",
      "2       3      66\n",
      "3       4      60\n",
      "4       5      74\n",
      "5       6      74\n",
      "6       7      74\n",
      "7       8      67\n",
      "8       9      65\n",
      "9      10      80\n",
      "10     11      53\n",
      "11     12      47\n"
     ]
    },
    {
     "name": "stderr",
     "output_type": "stream",
     "text": [
      "C:\\Users\\Alexa\\AppData\\Local\\Temp\\ipykernel_17664\\1500673522.py:2: SettingWithCopyWarning: \n",
      "A value is trying to be set on a copy of a slice from a DataFrame.\n",
      "Try using .loc[row_indexer,col_indexer] = value instead\n",
      "\n",
      "See the caveats in the documentation: https://pandas.pydata.org/pandas-docs/stable/user_guide/indexing.html#returning-a-view-versus-a-copy\n",
      "  dateDataCleared[\"Month\"] = dateDataCleared[\"date\"].apply(lambda x: x.month)\n"
     ]
    },
    {
     "data": {
      "image/png": "[encoded data removed]",
      "text/plain": [
       "<Figure size 640x480 with 1 Axes>"
      ]
     },
     "metadata": {},
     "output_type": "display_data"
    }
   ],
   "source": [
    "# this is the evaluation for the entire period of the dataset.\n",
    "dateDataCleared[\"Month\"] = dateDataCleared[\"date\"].apply(lambda x: x.month)\n",
    "\n",
    "monthly = dateDataCleared.groupby(\"Month\").size().reset_index(name='Visits')\n",
    "print(monthly)\n",
    "\n",
    "# now, lets chart it:\n",
    "plt.bar(monthly['Month'], monthly['Visits'])\n",
    "plt.xlabel('Month')\n",
    "plt.ylabel('Number of Visits')\n",
    "plt.title('Monthly Visits')\n",
    "plt.xticks(ticks=monthly['Month'], labels=['J', 'F', 'M', 'A', 'M', 'J', 'J', 'A', 'S', 'O', 'N', 'D'])\n",
    "plt.show()\n"
   ]
  },
  {
   "cell_type": "markdown",
   "metadata": {},
   "source": [
    "\n",
    "- add a new column \"age group \" to split the age to 5 categories:  40-49, 50-59, 60-69, and above 70)\n"
   ]
  },
  {
   "cell_type": "code",
   "execution_count": 155,
   "metadata": {},
   "outputs": [
    {
     "data": {
      "text/html": [
       "<div>\n",
       "<style scoped>\n",
       "    .dataframe tbody tr th:only-of-type {\n",
       "        vertical-align: middle;\n",
       "    }\n",
       "\n",
       "    .dataframe tbody tr th {\n",
       "        vertical-align: top;\n",
       "    }\n",
       "\n",
       "    .dataframe thead th {\n",
       "        text-align: right;\n",
       "    }\n",
       "</style>\n",
       "<table border=\"1\" class=\"dataframe\">\n",
       "  <thead>\n",
       "    <tr style=\"text-align: right;\">\n",
       "      <th></th>\n",
       "      <th>Participant_ID</th>\n",
       "      <th>Sex</th>\n",
       "      <th>Age</th>\n",
       "      <th>Smoking_status</th>\n",
       "      <th>BMI</th>\n",
       "      <th>Disease</th>\n",
       "      <th>age group</th>\n",
       "    </tr>\n",
       "  </thead>\n",
       "  <tbody>\n",
       "    <tr>\n",
       "      <th>0</th>\n",
       "      <td>1003300</td>\n",
       "      <td>Male</td>\n",
       "      <td>62</td>\n",
       "      <td>Previous</td>\n",
       "      <td>33.7597</td>\n",
       "      <td>2</td>\n",
       "      <td>60-69</td>\n",
       "    </tr>\n",
       "    <tr>\n",
       "      <th>1</th>\n",
       "      <td>1004025</td>\n",
       "      <td>Male</td>\n",
       "      <td>60</td>\n",
       "      <td>Previous</td>\n",
       "      <td>28.1173</td>\n",
       "      <td>1</td>\n",
       "      <td>60-69</td>\n",
       "    </tr>\n",
       "    <tr>\n",
       "      <th>2</th>\n",
       "      <td>1005551</td>\n",
       "      <td>Male</td>\n",
       "      <td>69</td>\n",
       "      <td>Previous</td>\n",
       "      <td>26.4159</td>\n",
       "      <td>2</td>\n",
       "      <td>60-69</td>\n",
       "    </tr>\n",
       "    <tr>\n",
       "      <th>3</th>\n",
       "      <td>1005594</td>\n",
       "      <td>Male</td>\n",
       "      <td>64</td>\n",
       "      <td>Previous</td>\n",
       "      <td>24.7550</td>\n",
       "      <td>1</td>\n",
       "      <td>60-69</td>\n",
       "    </tr>\n",
       "    <tr>\n",
       "      <th>4</th>\n",
       "      <td>1005624</td>\n",
       "      <td>Male</td>\n",
       "      <td>64</td>\n",
       "      <td>Previous</td>\n",
       "      <td>35.0773</td>\n",
       "      <td>2</td>\n",
       "      <td>60-69</td>\n",
       "    </tr>\n",
       "    <tr>\n",
       "      <th>...</th>\n",
       "      <td>...</td>\n",
       "      <td>...</td>\n",
       "      <td>...</td>\n",
       "      <td>...</td>\n",
       "      <td>...</td>\n",
       "      <td>...</td>\n",
       "      <td>...</td>\n",
       "    </tr>\n",
       "    <tr>\n",
       "      <th>2211</th>\n",
       "      <td>6009769</td>\n",
       "      <td>Male</td>\n",
       "      <td>48</td>\n",
       "      <td>Previous</td>\n",
       "      <td>39.3345</td>\n",
       "      <td>2</td>\n",
       "      <td>40-49</td>\n",
       "    </tr>\n",
       "    <tr>\n",
       "      <th>2212</th>\n",
       "      <td>6011693</td>\n",
       "      <td>Male</td>\n",
       "      <td>62</td>\n",
       "      <td>Previous</td>\n",
       "      <td>30.8813</td>\n",
       "      <td>2</td>\n",
       "      <td>60-69</td>\n",
       "    </tr>\n",
       "    <tr>\n",
       "      <th>2213</th>\n",
       "      <td>6015403</td>\n",
       "      <td>Female</td>\n",
       "      <td>60</td>\n",
       "      <td>Previous</td>\n",
       "      <td>34.7276</td>\n",
       "      <td>1</td>\n",
       "      <td>60-69</td>\n",
       "    </tr>\n",
       "    <tr>\n",
       "      <th>2214</th>\n",
       "      <td>6019982</td>\n",
       "      <td>Male</td>\n",
       "      <td>54</td>\n",
       "      <td>Never</td>\n",
       "      <td>25.3287</td>\n",
       "      <td>2</td>\n",
       "      <td>50-59</td>\n",
       "    </tr>\n",
       "    <tr>\n",
       "      <th>2215</th>\n",
       "      <td>6020094</td>\n",
       "      <td>Female</td>\n",
       "      <td>63</td>\n",
       "      <td>Never</td>\n",
       "      <td>24.2972</td>\n",
       "      <td>2</td>\n",
       "      <td>60-69</td>\n",
       "    </tr>\n",
       "  </tbody>\n",
       "</table>\n",
       "<p>2210 rows × 7 columns</p>\n",
       "</div>"
      ],
      "text/plain": [
       "      Participant_ID     Sex  Age Smoking_status      BMI  Disease age group\n",
       "0            1003300    Male   62       Previous  33.7597        2     60-69\n",
       "1            1004025    Male   60       Previous  28.1173        1     60-69\n",
       "2            1005551    Male   69       Previous  26.4159        2     60-69\n",
       "3            1005594    Male   64       Previous  24.7550        1     60-69\n",
       "4            1005624    Male   64       Previous  35.0773        2     60-69\n",
       "...              ...     ...  ...            ...      ...      ...       ...\n",
       "2211         6009769    Male   48       Previous  39.3345        2     40-49\n",
       "2212         6011693    Male   62       Previous  30.8813        2     60-69\n",
       "2213         6015403  Female   60       Previous  34.7276        1     60-69\n",
       "2214         6019982    Male   54          Never  25.3287        2     50-59\n",
       "2215         6020094  Female   63          Never  24.2972        2     60-69\n",
       "\n",
       "[2210 rows x 7 columns]"
      ]
     },
     "execution_count": 155,
     "metadata": {},
     "output_type": "execute_result"
    }
   ],
   "source": [
    "patientInfoClearedBmi[\"age group\"] = patientInfoClearedBmi[\"Age\"].apply(lambda age: \n",
    "    \"40-49\" if age < 50 else \n",
    "    \"50-59\" if age < 60 else \n",
    "    \"60-69\" if age < 70 else \n",
    "    \"70\")\n",
    "patientInfoClearedBmi"
   ]
  },
  {
   "cell_type": "markdown",
   "metadata": {},
   "source": [
    "- Merge the two files to include the columns: Patient_ID, Sex, Age, BMI, Smoking_status, Number_of_visits, Disease and age group"
   ]
  },
  {
   "cell_type": "code",
   "execution_count": 172,
   "metadata": {},
   "outputs": [
    {
     "data": {
      "text/html": [
       "<div>\n",
       "<style scoped>\n",
       "    .dataframe tbody tr th:only-of-type {\n",
       "        vertical-align: middle;\n",
       "    }\n",
       "\n",
       "    .dataframe tbody tr th {\n",
       "        vertical-align: top;\n",
       "    }\n",
       "\n",
       "    .dataframe thead th {\n",
       "        text-align: right;\n",
       "    }\n",
       "</style>\n",
       "<table border=\"1\" class=\"dataframe\">\n",
       "  <thead>\n",
       "    <tr style=\"text-align: right;\">\n",
       "      <th></th>\n",
       "      <th>Patient_ID</th>\n",
       "      <th>Sex</th>\n",
       "      <th>Age</th>\n",
       "      <th>Smoking_status</th>\n",
       "      <th>BMI</th>\n",
       "      <th>Disease</th>\n",
       "      <th>age group</th>\n",
       "      <th>Number_of_visits</th>\n",
       "    </tr>\n",
       "  </thead>\n",
       "  <tbody>\n",
       "    <tr>\n",
       "      <th>0</th>\n",
       "      <td>1003300</td>\n",
       "      <td>Male</td>\n",
       "      <td>62</td>\n",
       "      <td>Previous</td>\n",
       "      <td>33.7597</td>\n",
       "      <td>2</td>\n",
       "      <td>60-69</td>\n",
       "      <td>2</td>\n",
       "    </tr>\n",
       "    <tr>\n",
       "      <th>1</th>\n",
       "      <td>1004025</td>\n",
       "      <td>Male</td>\n",
       "      <td>60</td>\n",
       "      <td>Previous</td>\n",
       "      <td>28.1173</td>\n",
       "      <td>1</td>\n",
       "      <td>60-69</td>\n",
       "      <td>0</td>\n",
       "    </tr>\n",
       "    <tr>\n",
       "      <th>2</th>\n",
       "      <td>1005551</td>\n",
       "      <td>Male</td>\n",
       "      <td>69</td>\n",
       "      <td>Previous</td>\n",
       "      <td>26.4159</td>\n",
       "      <td>2</td>\n",
       "      <td>60-69</td>\n",
       "      <td>2</td>\n",
       "    </tr>\n",
       "    <tr>\n",
       "      <th>3</th>\n",
       "      <td>1005594</td>\n",
       "      <td>Male</td>\n",
       "      <td>64</td>\n",
       "      <td>Previous</td>\n",
       "      <td>24.7550</td>\n",
       "      <td>1</td>\n",
       "      <td>60-69</td>\n",
       "      <td>1</td>\n",
       "    </tr>\n",
       "    <tr>\n",
       "      <th>4</th>\n",
       "      <td>1005624</td>\n",
       "      <td>Male</td>\n",
       "      <td>64</td>\n",
       "      <td>Previous</td>\n",
       "      <td>35.0773</td>\n",
       "      <td>2</td>\n",
       "      <td>60-69</td>\n",
       "      <td>1</td>\n",
       "    </tr>\n",
       "    <tr>\n",
       "      <th>...</th>\n",
       "      <td>...</td>\n",
       "      <td>...</td>\n",
       "      <td>...</td>\n",
       "      <td>...</td>\n",
       "      <td>...</td>\n",
       "      <td>...</td>\n",
       "      <td>...</td>\n",
       "      <td>...</td>\n",
       "    </tr>\n",
       "    <tr>\n",
       "      <th>2211</th>\n",
       "      <td>6009769</td>\n",
       "      <td>Male</td>\n",
       "      <td>48</td>\n",
       "      <td>Previous</td>\n",
       "      <td>39.3345</td>\n",
       "      <td>2</td>\n",
       "      <td>40-49</td>\n",
       "      <td>0</td>\n",
       "    </tr>\n",
       "    <tr>\n",
       "      <th>2212</th>\n",
       "      <td>6011693</td>\n",
       "      <td>Male</td>\n",
       "      <td>62</td>\n",
       "      <td>Previous</td>\n",
       "      <td>30.8813</td>\n",
       "      <td>2</td>\n",
       "      <td>60-69</td>\n",
       "      <td>2</td>\n",
       "    </tr>\n",
       "    <tr>\n",
       "      <th>2213</th>\n",
       "      <td>6015403</td>\n",
       "      <td>Female</td>\n",
       "      <td>60</td>\n",
       "      <td>Previous</td>\n",
       "      <td>34.7276</td>\n",
       "      <td>1</td>\n",
       "      <td>60-69</td>\n",
       "      <td>0</td>\n",
       "    </tr>\n",
       "    <tr>\n",
       "      <th>2214</th>\n",
       "      <td>6019982</td>\n",
       "      <td>Male</td>\n",
       "      <td>54</td>\n",
       "      <td>Never</td>\n",
       "      <td>25.3287</td>\n",
       "      <td>2</td>\n",
       "      <td>50-59</td>\n",
       "      <td>0</td>\n",
       "    </tr>\n",
       "    <tr>\n",
       "      <th>2215</th>\n",
       "      <td>6020094</td>\n",
       "      <td>Female</td>\n",
       "      <td>63</td>\n",
       "      <td>Never</td>\n",
       "      <td>24.2972</td>\n",
       "      <td>2</td>\n",
       "      <td>60-69</td>\n",
       "      <td>2</td>\n",
       "    </tr>\n",
       "  </tbody>\n",
       "</table>\n",
       "<p>2210 rows × 8 columns</p>\n",
       "</div>"
      ],
      "text/plain": [
       "      Patient_ID     Sex  Age Smoking_status      BMI  Disease age group  \\\n",
       "0        1003300    Male   62       Previous  33.7597        2     60-69   \n",
       "1        1004025    Male   60       Previous  28.1173        1     60-69   \n",
       "2        1005551    Male   69       Previous  26.4159        2     60-69   \n",
       "3        1005594    Male   64       Previous  24.7550        1     60-69   \n",
       "4        1005624    Male   64       Previous  35.0773        2     60-69   \n",
       "...          ...     ...  ...            ...      ...      ...       ...   \n",
       "2211     6009769    Male   48       Previous  39.3345        2     40-49   \n",
       "2212     6011693    Male   62       Previous  30.8813        2     60-69   \n",
       "2213     6015403  Female   60       Previous  34.7276        1     60-69   \n",
       "2214     6019982    Male   54          Never  25.3287        2     50-59   \n",
       "2215     6020094  Female   63          Never  24.2972        2     60-69   \n",
       "\n",
       "      Number_of_visits  \n",
       "0                    2  \n",
       "1                    0  \n",
       "2                    2  \n",
       "3                    1  \n",
       "4                    1  \n",
       "...                ...  \n",
       "2211                 0  \n",
       "2212                 2  \n",
       "2213                 0  \n",
       "2214                 0  \n",
       "2215                 2  \n",
       "\n",
       "[2210 rows x 8 columns]"
      ]
     },
     "execution_count": 172,
     "metadata": {},
     "output_type": "execute_result"
    }
   ],
   "source": [
    "dateDataMerge = dateDataCleared.groupby(\"Participant_ID\").count().astype(int)\n",
    "dateDataMerge\n",
    "#merged = patientInfoClearedBmi.copy()\n",
    "#merged[\"Visits\"] = dateDataMerge[\"VisitDate\"][\"count\"]\n",
    "merged= patientInfoClearedBmi.join(dateDataMerge, on=\"Participant_ID\")\n",
    "merged.drop(columns=[\"Month\", \"date\"], inplace=True)\n",
    "merged.rename(columns={\"VisitDate\": \"Number_of_visits\", \"Participant_ID\": \"Patient_ID\"}, inplace=True)\n",
    "merged[\"Number_of_visits\"] = merged[\"Number_of_visits\"].fillna(0)\n",
    "merged[\"Number_of_visits\"] = merged[\"Number_of_visits\"].astype(int)\n",
    "merged"
   ]
  },
  {
   "cell_type": "markdown",
   "metadata": {},
   "source": [
    "\n",
    "\n",
    "# Task: Statistics (you don't need to check the model assumption in this exercise)\n",
    "\n",
    "- Compare the BMI between the healthy and control groups using a box or violin plot.\n"
   ]
  },
  {
   "cell_type": "code",
   "execution_count": 194,
   "metadata": {},
   "outputs": [
    {
     "data": {
      "image/png": "[encoded data removed]",
      "text/plain": [
       "<Figure size 640x480 with 1 Axes>"
      ]
     },
     "metadata": {},
     "output_type": "display_data"
    }
   ],
   "source": [
    "diseased_bmi = merged[merged['Disease'] == 1]['BMI']\n",
    "healthy_bmi = merged[merged['Disease'] == 2]['BMI']\n",
    "diseased_count = diseased_bmi.count()\n",
    "healthy_count = healthy_bmi.count()\n",
    "# Creating the boxplot\n",
    "plt.boxplot([diseased_bmi, healthy_bmi], tick_labels=['Diseased (' + str(diseased_count) + ')', 'Healthy (' + str(healthy_count) + ')'])\n",
    "plt.xlabel('Status')\n",
    "plt.ylabel('BMI')\n",
    "plt.title(f\"BMI: \\n Diseased ~{diseased_bmi.median():.4f} / μ{diseased_bmi.mean():.4f}\\n vs. Healthy ~{healthy_bmi.median():.4f} / μ{healthy_bmi.mean():.4f}\")\n",
    "plt.show()\n"
   ]
  },
  {
   "cell_type": "markdown",
   "metadata": {},
   "source": [
    "the BMI values are very similar for both groups of participants. the higher number of outliers can be explained by a significantly bigger participant count for the healthy ones."
   ]
  },
  {
   "cell_type": "markdown",
   "metadata": {},
   "source": [
    "- Examine if the proportion of smoking status differs between the healthy and control groups.\n"
   ]
  },
  {
   "cell_type": "code",
   "execution_count": 238,
   "metadata": {},
   "outputs": [
    {
     "name": "stdout",
     "output_type": "stream",
     "text": [
      "    Disease        Smoking_status  Count  proportion\n",
      "0  Diseased               Current     92    0.162832\n",
      "1  Diseased                 Never    214    0.378761\n",
      "2  Diseased  Prefer not to answer      5    0.008850\n",
      "3  Diseased              Previous    254    0.449558\n",
      "4   Healthy               Current    258    0.156839\n",
      "5   Healthy                 Never    635    0.386018\n",
      "6   Healthy  Prefer not to answer      4    0.002432\n",
      "7   Healthy              Previous    748    0.454711\n"
     ]
    },
    {
     "data": {
      "image/png": "[encoded data removed]",
      "text/plain": [
       "<Figure size 640x480 with 1 Axes>"
      ]
     },
     "metadata": {},
     "output_type": "display_data"
    },
    {
     "data": {
      "image/png": "[encoded data removed]",
      "text/plain": [
       "<Figure size 640x480 with 1 Axes>"
      ]
     },
     "metadata": {},
     "output_type": "display_data"
    }
   ],
   "source": [
    "smokinginfo = merged.groupby([\"Disease\", \"Smoking_status\"])[\"Patient_ID\"].count().reset_index().rename(columns={\"Patient_ID\": \"Count\"})\n",
    "smokinginfo[\"proportion\"] = smokinginfo.groupby(\"Disease\")[\"Count\"].transform(lambda x: x/x.sum())\n",
    "smokinginfo[\"Disease\"] = smokinginfo[\"Disease\"].apply(lambda x: \"Diseased\" if x == 1 else \"Healthy\")\n",
    "print(smokinginfo)\n",
    "\n",
    "# smokinginfoGraph = pd.DataFrame({\"Diseased\": [123, 200, 1000, 354], \"Healthy\": [456, 111, 200, 684]})\n",
    "# smokinginfoGraph.plot(kind='bar', stacked=True)\n",
    "# plt.xlabel('Group')\n",
    "# plt.ylabel('Proportion')\n",
    "# plt.title('Proportion of Smoking Status between Diseased and Healthy Groups')\n",
    "# plt.xticks([0, 1], ['Diseased', 'Healthy'])\n",
    "# plt.legend(title='Smoking Status', bbox_to_anchor=(1.05, 1))\n",
    "# plt.show()\n",
    "\n",
    "\n",
    "dc = smokinginfo[(smokinginfo[\"Disease\"]==\"Diseased\") & (smokinginfo[\"Smoking_status\"]==\"Current\")][\"Count\"].values[0]\n",
    "dn = smokinginfo[(smokinginfo[\"Disease\"]==\"Diseased\") & (smokinginfo[\"Smoking_status\"]==\"Never\")][\"Count\"].values[0]\n",
    "dp = smokinginfo[(smokinginfo[\"Disease\"]==\"Diseased\") & (smokinginfo[\"Smoking_status\"]==\"Prefer not to answer\")][\"Count\"].values[0]\n",
    "dprev = smokinginfo[(smokinginfo[\"Disease\"]==\"Diseased\") & (smokinginfo[\"Smoking_status\"]==\"Previous\")][\"Count\"].values[0]\n",
    "\n",
    "hc = smokinginfo[(smokinginfo[\"Disease\"]==\"Healthy\") & (smokinginfo[\"Smoking_status\"]==\"Current\")][\"Count\"].values[0]\n",
    "hn = smokinginfo[(smokinginfo[\"Disease\"]==\"Healthy\") & (smokinginfo[\"Smoking_status\"]==\"Never\")][\"Count\"].values[0]\n",
    "hp = smokinginfo[(smokinginfo[\"Disease\"]==\"Healthy\") & (smokinginfo[\"Smoking_status\"]==\"Prefer not to answer\")][\"Count\"].values[0]\n",
    "hprev = smokinginfo[(smokinginfo[\"Disease\"]==\"Healthy\") & (smokinginfo[\"Smoking_status\"]==\"Previous\")][\"Count\"].values[0]\n",
    "# Assuming the DataFrame 'df' needs to be transposed to get two bars, each containing four parts\n",
    "df = pd.DataFrame({\n",
    "    'Diseased': [dc, dn, dp, dprev],  # Example values for Group1\n",
    "    'Healthy': [hc, hn, hp, hprev]   # Example values for Group2\n",
    "}, index=['Current', 'Never', 'Prefer not to answer', 'Previous'])  # Index represents the parts\n",
    "\n",
    "# Transpose the DataFrame to get two bars (Group1 and Group2) each containing four parts (A, B, C, D)\n",
    "df_transposed = df.T\n",
    "\n",
    "# Plotting the transposed data in a stacked bar plot\n",
    "df_transposed.plot(kind='bar', stacked=True)\n",
    "plt.title('Absolute numbers of smoking statuses between diseased and healthy groups')\n",
    "\n",
    "plt.show()\n",
    "\n",
    "dc = smokinginfo[(smokinginfo[\"Disease\"]==\"Diseased\") & (smokinginfo[\"Smoking_status\"]==\"Current\")][\"proportion\"].values[0]\n",
    "dn = smokinginfo[(smokinginfo[\"Disease\"]==\"Diseased\") & (smokinginfo[\"Smoking_status\"]==\"Never\")][\"proportion\"].values[0]\n",
    "dp = smokinginfo[(smokinginfo[\"Disease\"]==\"Diseased\") & (smokinginfo[\"Smoking_status\"]==\"Prefer not to answer\")][\"proportion\"].values[0]\n",
    "dprev = smokinginfo[(smokinginfo[\"Disease\"]==\"Diseased\") & (smokinginfo[\"Smoking_status\"]==\"Previous\")][\"proportion\"].values[0]\n",
    "\n",
    "hc = smokinginfo[(smokinginfo[\"Disease\"]==\"Healthy\") & (smokinginfo[\"Smoking_status\"]==\"Current\")][\"proportion\"].values[0]\n",
    "hn = smokinginfo[(smokinginfo[\"Disease\"]==\"Healthy\") & (smokinginfo[\"Smoking_status\"]==\"Never\")][\"proportion\"].values[0]\n",
    "hp = smokinginfo[(smokinginfo[\"Disease\"]==\"Healthy\") & (smokinginfo[\"Smoking_status\"]==\"Prefer not to answer\")][\"proportion\"].values[0]\n",
    "hprev = smokinginfo[(smokinginfo[\"Disease\"]==\"Healthy\") & (smokinginfo[\"Smoking_status\"]==\"Previous\")][\"proportion\"].values[0]\n",
    "# Assuming the DataFrame 'df' needs to be transposed to get two bars, each containing four parts\n",
    "df = pd.DataFrame({\n",
    "    'Diseased': [dc, dn, dp, dprev],  # Example values for Group1\n",
    "    'Healthy': [hc, hn, hp, hprev]   # Example values for Group2\n",
    "}, index=['Current', 'Never', 'Prefer not to answer', 'Previous'])  # Index represents the parts\n",
    "\n",
    "# Transpose the DataFrame to get two bars (Group1 and Group2) each containing four parts (A, B, C, D)\n",
    "df_transposed = df.T\n",
    "\n",
    "# Plotting the transposed data in a stacked bar plot\n",
    "df_transposed.plot(kind='bar', stacked=True)\n",
    "plt.title('proportions of smoking statuses between diseased and healthy groups')\n",
    "plt.show()"
   ]
  },
  {
   "cell_type": "markdown",
   "metadata": {},
   "source": [
    "when plotting the proportions of the different smoking statuses, it is obvious that there is no causal relationship between the desease and whether people smoke."
   ]
  },
  {
   "cell_type": "markdown",
   "metadata": {},
   "source": [
    "- Analyze the relationship between smoking status and the number of hospital visits, separately for the disease and healthy groups, and for the overall population.\n"
   ]
  },
  {
   "cell_type": "code",
   "execution_count": 246,
   "metadata": {},
   "outputs": [
    {
     "name": "stdout",
     "output_type": "stream",
     "text": [
      "overall population\n",
      "[Smoking_status\n",
      "Current                 117\n",
      "Never                   314\n",
      "Prefer not to answer      2\n",
      "Previous                354\n",
      "Name: Number_of_visits, dtype: int32, Smoking_status\n",
      "Current                 0.148666\n",
      "Never                   0.398983\n",
      "Prefer not to answer    0.002541\n",
      "Previous                0.449809\n",
      "Name: Number_of_visits, dtype: float64]\n",
      "\n",
      "Diseased\n",
      "[Smoking_status\n",
      "Current                 29\n",
      "Never                   89\n",
      "Prefer not to answer     1\n",
      "Previous                82\n",
      "Name: Number_of_visits, dtype: int32, Smoking_status\n",
      "Current                 0.144279\n",
      "Never                   0.442786\n",
      "Prefer not to answer    0.004975\n",
      "Previous                0.407960\n",
      "Name: Number_of_visits, dtype: float64]\n",
      "\n",
      "Healthy\n",
      "[Smoking_status\n",
      "Current                  88\n",
      "Never                   225\n",
      "Prefer not to answer      1\n",
      "Previous                272\n",
      "Name: Number_of_visits, dtype: int32, Smoking_status\n",
      "Current                 0.150171\n",
      "Never                   0.383959\n",
      "Prefer not to answer    0.001706\n",
      "Previous                0.464164\n",
      "Name: Number_of_visits, dtype: float64]\n",
      "\n"
     ]
    }
   ],
   "source": [
    "def analyzeSmokingStatus(x, title):\n",
    "    print(title)\n",
    "    print([x.groupby(\"Smoking_status\")[\"Number_of_visits\"].sum(), \n",
    "           x.groupby(\"Smoking_status\")[\"Number_of_visits\"].sum() / x[\"Number_of_visits\"].sum(),\n",
    "           ])\n",
    "# i split the dataset here, and run the same analysis on each part\n",
    "analyzeSmokingStatus(merged, \"Overall population\")\n",
    "analyzeSmokingStatus(merged[merged[\"Disease\"] == 1], \"Diseased\")\n",
    "analyzeSmokingStatus(merged[merged[\"Disease\"] == 2], \"Healthy\")"
   ]
  },
  {
   "cell_type": "markdown",
   "metadata": {},
   "source": [
    "Smoking doesn't result in higher numbers of hospital visits when people are diseased. in contrast, both, previous and current smokers have a slightly higher percentage in healthy people in contrast "
   ]
  },
  {
   "cell_type": "markdown",
   "metadata": {},
   "source": [
    "- Determine if the number of visits is higher in the disease group compared to the healthy group.\n"
   ]
  },
  {
   "cell_type": "code",
   "execution_count": 243,
   "metadata": {},
   "outputs": [
    {
     "name": "stdout",
     "output_type": "stream",
     "text": [
      "Disease\n",
      "1    201\n",
      "2    586\n",
      "Name: Number_of_visits, dtype: int32\n",
      "Disease\n",
      "1     565\n",
      "2    1645\n",
      "Name: Patient_ID, dtype: int64\n",
      "Disease\n",
      "1    0.355752\n",
      "2    0.356231\n",
      "Name: Number_of_visits, dtype: float64\n",
      "The number of visits per patient is very slightly (0.1%) higher for healthy patients than for diseased patients.\n"
     ]
    }
   ],
   "source": [
    "print(merged.groupby(\"Disease\")[\"Number_of_visits\"].sum())\n",
    "print(merged.groupby(\"Disease\")[\"Patient_ID\"].count())\n",
    "# print(merged.groupby(\"Disease\")[\"Number_of_visits\"].sum() / merged.groupby(\"Disease\")[\"Patient_ID\"].count())\n",
    "print(merged.groupby(\"Disease\")[\"Number_of_visits\"].mean())"
   ]
  },
  {
   "cell_type": "markdown",
   "metadata": {},
   "source": [
    "The number of visits per patient is very slightly (0.1%) higher for healthy patients than for diseased patients."
   ]
  },
  {
   "cell_type": "markdown",
   "metadata": {},
   "source": [
    "- Calculate the disease prevalence (number of sick  / total number population) across different age groups  in our dataset, and test if the prevalence is different across the group\n"
   ]
  },
  {
   "cell_type": "code",
   "execution_count": 162,
   "metadata": {},
   "outputs": [
    {
     "name": "stdout",
     "output_type": "stream",
     "text": [
      "age group  Disease\n",
      "40-49      1            42\n",
      "           2           113\n",
      "50-59      1           108\n",
      "           2           389\n",
      "60-69      1           407\n",
      "           2          1116\n",
      "70         1             8\n",
      "           2            27\n",
      "Name: Patient_ID, dtype: int64\n",
      "age group\n",
      "40-49     155\n",
      "50-59     497\n",
      "60-69    1523\n",
      "70         35\n",
      "Name: Patient_ID, dtype: int64\n",
      "age group  Disease\n",
      "40-49      1          0.270968\n",
      "           2          0.729032\n",
      "50-59      1          0.217304\n",
      "           2          0.782696\n",
      "60-69      1          0.267236\n",
      "           2          0.732764\n",
      "70         1          0.228571\n",
      "           2          0.771429\n",
      "Name: Patient_ID, dtype: float64\n"
     ]
    }
   ],
   "source": [
    "# we group the dataset into the different age groups, and then distinguish between sick and healthy patients.\n",
    "print(merged.groupby([\"age group\", \"Disease\"])[\"Patient_ID\"].count())\n",
    "# we get the totals of the age groups\n",
    "print(merged.groupby([\"age group\"])[\"Patient_ID\"].count())\n",
    "# we do the division\n",
    "print(merged.groupby([\"age group\", \"Disease\"])[\"Patient_ID\"].count() / merged.groupby([\"age group\"])[\"Patient_ID\"].count())\n",
    "# we then take a look at the numbers:"
   ]
  },
  {
   "cell_type": "markdown",
   "metadata": {},
   "source": [
    "We can see that the prevalence varies between the age groups in a range of 72 to 78 percent."
   ]
  }
 ],
 "metadata": {
  "kernelspec": {
   "display_name": "Python 3",
   "language": "python",
   "name": "python3"
  },
  "language_info": {
   "codemirror_mode": {
    "name": "ipython",
    "version": 3
   },
   "file_extension": ".py",
   "mimetype": "text/x-python",
   "name": "python",
   "nbconvert_exporter": "python",
   "pygments_lexer": "ipython3",
   "version": "3.11.9"
  }
 },
 "nbformat": 4,
 "nbformat_minor": 2
}
