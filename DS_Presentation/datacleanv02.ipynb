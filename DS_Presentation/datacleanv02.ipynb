{
 "cells": [
  {
   "cell_type": "code",
   "execution_count": null,
   "metadata": {},
   "outputs": [],
   "source": [
    "# %pip install dataprep # <- geht nicht, irgendwas mit lievenshtein\n"
   ]
  },
  {
   "cell_type": "code",
   "execution_count": 6,
   "metadata": {},
   "outputs": [
    {
     "name": "stdout",
     "output_type": "stream",
     "text": [
      "Dropped: 541\n"
     ]
    },
    {
     "data": {
      "text/html": [
       "<div>\n",
       "<style scoped>\n",
       "    .dataframe tbody tr th:only-of-type {\n",
       "        vertical-align: middle;\n",
       "    }\n",
       "\n",
       "    .dataframe tbody tr th {\n",
       "        vertical-align: top;\n",
       "    }\n",
       "\n",
       "    .dataframe thead th {\n",
       "        text-align: right;\n",
       "    }\n",
       "</style>\n",
       "<table border=\"1\" class=\"dataframe\">\n",
       "  <thead>\n",
       "    <tr style=\"text-align: right;\">\n",
       "      <th></th>\n",
       "      <th>id</th>\n",
       "      <th>NAME</th>\n",
       "      <th>host_id</th>\n",
       "      <th>host_identity_verified</th>\n",
       "      <th>host_name</th>\n",
       "      <th>neighbourhood_group</th>\n",
       "      <th>neighbourhood</th>\n",
       "      <th>lat</th>\n",
       "      <th>long</th>\n",
       "      <th>country</th>\n",
       "      <th>...</th>\n",
       "      <th>service_fee</th>\n",
       "      <th>minimum_nights</th>\n",
       "      <th>number_of_reviews</th>\n",
       "      <th>last_review</th>\n",
       "      <th>reviews_per_month</th>\n",
       "      <th>review_rate_number</th>\n",
       "      <th>calculated_host_listings_count</th>\n",
       "      <th>availability_365</th>\n",
       "      <th>house_rules</th>\n",
       "      <th>license</th>\n",
       "    </tr>\n",
       "  </thead>\n",
       "  <tbody>\n",
       "  </tbody>\n",
       "</table>\n",
       "<p>0 rows × 26 columns</p>\n",
       "</div>"
      ],
      "text/plain": [
       "Empty DataFrame\n",
       "Columns: [id, NAME, host_id, host_identity_verified, host_name, neighbourhood_group, neighbourhood, lat, long, country, country_code, instant_bookable, cancellation_policy, room_type, construction_year, price, service_fee, minimum_nights, number_of_reviews, last_review, reviews_per_month, review_rate_number, calculated_host_listings_count, availability_365, house_rules, license]\n",
       "Index: []\n",
       "\n",
       "[0 rows x 26 columns]"
      ]
     },
     "execution_count": 6,
     "metadata": {},
     "output_type": "execute_result"
    }
   ],
   "source": [
    "import pandas as pd\n",
    "\n",
    "\n",
    "data = \"Airbnb_Open_Data.csv\"\n",
    "df = pd.read_csv(data, delimiter=',', low_memory=False)\n",
    "\n",
    "# remove duplicates\n",
    "shape_before_remove_duplicates = df.shape[0]\n",
    "df = df.drop_duplicates(\"id\", keep='first')\n",
    "shape_after_remove_duplicates = df.shape[0]\n",
    "print(\"Dropped: {}\".format(shape_before_remove_duplicates - shape_after_remove_duplicates))\n",
    "\n",
    "# check for duplicates\n",
    "ids = df[\"id\"]\n",
    "df[ids.isin(ids[ids.duplicated()])].sort_values(\"id\")"
   ]
  },
  {
   "cell_type": "code",
   "execution_count": 7,
   "metadata": {},
   "outputs": [],
   "source": [
    "# Drop licences because there are very few entries in it\n",
    "\n",
    "df = df.drop(['license'], axis=1)"
   ]
  },
  {
   "cell_type": "code",
   "execution_count": 8,
   "metadata": {},
   "outputs": [
    {
     "data": {
      "text/plain": [
       "0          966.0\n",
       "1          142.0\n",
       "2          620.0\n",
       "3          368.0\n",
       "4          204.0\n",
       "           ...  \n",
       "102053     696.0\n",
       "102054     909.0\n",
       "102055     387.0\n",
       "102056     848.0\n",
       "102057    1128.0\n",
       "Name: price, Length: 102058, dtype: float64"
      ]
     },
     "execution_count": 8,
     "metadata": {},
     "output_type": "execute_result"
    }
   ],
   "source": [
    "# make service_fee and price numeric and remove '$'\n",
    "\n",
    "df['service_fee'] = df['service_fee'].replace('[^\\d.]', '', regex=True).astype(float)\n",
    "df['price'] = df['price'].replace('[^\\d.]', '', regex=True).astype(float) \n",
    "pd.to_numeric(df['service_fee'], errors='raise')\n",
    "pd.to_numeric(df['price'], errors='raise')\n",
    "\n",
    "# df.dtypes\n",
    "# df"
   ]
  },
  {
   "cell_type": "code",
   "execution_count": 9,
   "metadata": {},
   "outputs": [
    {
     "name": "stdout",
     "output_type": "stream",
     "text": [
      "Starting date time check\n",
      "All dates are in the correct format: MM/DD/YYYY\n",
      "Dates in correct format: 0         True\n",
      "1         True\n",
      "2         True\n",
      "3         True\n",
      "4         True\n",
      "          ... \n",
      "102053    True\n",
      "102054    True\n",
      "102055    True\n",
      "102056    True\n",
      "102057    True\n",
      "Name: last_review, Length: 102058, dtype: bool\n",
      "Rows removed due to date constraints: 15837\n"
     ]
    },
    {
     "data": {
      "text/html": [
       "<div>\n",
       "<style scoped>\n",
       "    .dataframe tbody tr th:only-of-type {\n",
       "        vertical-align: middle;\n",
       "    }\n",
       "\n",
       "    .dataframe tbody tr th {\n",
       "        vertical-align: top;\n",
       "    }\n",
       "\n",
       "    .dataframe thead th {\n",
       "        text-align: right;\n",
       "    }\n",
       "</style>\n",
       "<table border=\"1\" class=\"dataframe\">\n",
       "  <thead>\n",
       "    <tr style=\"text-align: right;\">\n",
       "      <th></th>\n",
       "      <th>last_review</th>\n",
       "    </tr>\n",
       "  </thead>\n",
       "  <tbody>\n",
       "    <tr>\n",
       "      <th>count</th>\n",
       "      <td>86221</td>\n",
       "    </tr>\n",
       "    <tr>\n",
       "      <th>mean</th>\n",
       "      <td>2019-06-10 18:16:17.274678016</td>\n",
       "    </tr>\n",
       "    <tr>\n",
       "      <th>min</th>\n",
       "      <td>2012-07-11 00:00:00</td>\n",
       "    </tr>\n",
       "    <tr>\n",
       "      <th>25%</th>\n",
       "      <td>2018-10-27 00:00:00</td>\n",
       "    </tr>\n",
       "    <tr>\n",
       "      <th>50%</th>\n",
       "      <td>2019-06-13 00:00:00</td>\n",
       "    </tr>\n",
       "    <tr>\n",
       "      <th>75%</th>\n",
       "      <td>2019-07-05 00:00:00</td>\n",
       "    </tr>\n",
       "    <tr>\n",
       "      <th>max</th>\n",
       "      <td>2022-05-21 00:00:00</td>\n",
       "    </tr>\n",
       "  </tbody>\n",
       "</table>\n",
       "</div>"
      ],
      "text/plain": [
       "                         last_review\n",
       "count                          86221\n",
       "mean   2019-06-10 18:16:17.274678016\n",
       "min              2012-07-11 00:00:00\n",
       "25%              2018-10-27 00:00:00\n",
       "50%              2019-06-13 00:00:00\n",
       "75%              2019-07-05 00:00:00\n",
       "max              2022-05-21 00:00:00"
      ]
     },
     "execution_count": 9,
     "metadata": {},
     "output_type": "execute_result"
    }
   ],
   "source": [
    "# check last review column and update date time format and Drop all rows where year > 2024\n",
    "\n",
    "before = df.shape[0]\n",
    "\n",
    "print(\"Starting date time check\")\n",
    "\n",
    "def check_date_format(date_str):\n",
    "    if pd.isna(date_str):\n",
    "        return True \n",
    "    try:\n",
    "        pd.to_datetime(date_str, format='%m/%d/%Y', errors='raise')\n",
    "        return True\n",
    "    except ValueError:\n",
    "        return False\n",
    "    \n",
    "date_format_check = df['last_review'].apply(check_date_format)\n",
    "\n",
    "all_dates_correct = date_format_check.all()\n",
    "\n",
    "if all_dates_correct:\n",
    "    print(\"All dates are in the correct format: MM/DD/YYYY\")\n",
    "else:\n",
    "    print(\"There are dates not in the correct format:\")\n",
    "    print(df[~date_format_check])\n",
    "    \n",
    "print(\"Dates in correct format:\", date_format_check)\n",
    "\n",
    "# df.to_csv('datacleanv02.csv', index=True)\n",
    "\n",
    "\n",
    "df['last_review'] = pd.to_datetime(df['last_review'], errors='coerce')\n",
    "\n",
    "cutoff_date = pd.Timestamp('2023-12-31')\n",
    "\n",
    "# Drop rows where 'last_review' is later than the cutoff date\n",
    "df_clean = df[df['last_review'] <= cutoff_date]\n",
    "\n",
    "after = df_clean.shape[0]\n",
    "\n",
    "print(\"Rows removed due to date constraints: {}\".format(before - after))\n",
    "\n",
    "df_clean[[\"last_review\"]].describe()"
   ]
  },
  {
   "cell_type": "code",
   "execution_count": 10,
   "metadata": {},
   "outputs": [],
   "source": [
    "# replace line breaks\n",
    "\n",
    "df_clean = df_clean.replace('\\n',' ', regex=True)"
   ]
  },
  {
   "cell_type": "code",
   "execution_count": 11,
   "metadata": {},
   "outputs": [
    {
     "name": "stdout",
     "output_type": "stream",
     "text": [
      "['Private room' 'Entire home/apt' 'Shared room' 'Hotel room']\n",
      "['strict' 'moderate' 'flexible' nan]\n",
      "[False True nan]\n",
      "['US' nan]\n",
      "['United States' nan]\n",
      "['Brooklyn' 'Manhattan' 'brookln' 'manhatan' 'Queens' nan 'Staten Island'\n",
      " 'Bronx']\n",
      "['unconfirmed' 'verified' nan]\n"
     ]
    }
   ],
   "source": [
    "# make sure everything is unique and that there are no typos in the text fields\n",
    "\n",
    "def get_uniques_in_data(df):\n",
    "    print(df['room_type'].unique())\n",
    "    print(df['cancellation_policy'].unique())\n",
    "    print(df['instant_bookable'].unique())\n",
    "    print(df['country_code'].unique())\n",
    "    print(df['country'].unique())\n",
    "    print(df['neighbourhood_group'].unique())\n",
    "    print(df['host_identity_verified'].unique())\n",
    "\n",
    "    neighbourhoods = df_clean['neighbourhood'].unique()\n",
    "\n",
    "    arr = []\n",
    "\n",
    "    for element in neighbourhoods:\n",
    "        arr.append(str(element))\n",
    "\n",
    "\n",
    "    arr.sort()\n",
    "\n",
    "    # for element in arr:\n",
    "        # print(element)\n",
    "\n",
    "\n",
    "get_uniques_in_data(df_clean)\n"
   ]
  },
  {
   "cell_type": "code",
   "execution_count": 12,
   "metadata": {},
   "outputs": [
    {
     "name": "stdout",
     "output_type": "stream",
     "text": [
      "cleanData() has rows removed: 3293\n",
      "\n"
     ]
    },
    {
     "name": "stderr",
     "output_type": "stream",
     "text": [
      "C:\\Users\\Alexa\\AppData\\Local\\Temp\\ipykernel_35256\\2487727411.py:6: UserWarning: Boolean Series key will be reindexed to match DataFrame index.\n",
      "  filtered_df = filtered_df[(df['availability_365'] >= 0) & (df['minimum_nights'] >= 0)]\n"
     ]
    }
   ],
   "source": [
    "# clean min and max values for availability_365, minimum nights and price columns\n",
    "\n",
    "def cleanData(df):\n",
    "    initialSize = df.shape[0]\n",
    "    filtered_df = df[(df['availability_365'] <= 365) & (df['minimum_nights'] <= 2645) & (df['price'] >= 0)]\n",
    "    filtered_df = filtered_df[(df['availability_365'] >= 0) & (df['minimum_nights'] >= 0)]\n",
    "    filtered_df['service_fee'] = df['service_fee'].astype(float).fillna(0.0)\n",
    "    filtered_df['price'] = df['price'].astype(float).fillna(0.0)\n",
    "    filteredSize = filtered_df.shape[0]\n",
    "    if (initialSize != filteredSize):\n",
    "        print(\"cleanData() has rows removed: \" + str(initialSize - filteredSize) + \"\\n\")\n",
    "    return filtered_df\n",
    "\n",
    "df_clean = cleanData(df_clean)\n",
    "\n",
    "# df_clean"
   ]
  },
  {
   "cell_type": "code",
   "execution_count": 13,
   "metadata": {},
   "outputs": [],
   "source": [
    "df_clean[\"availability_365\"].describe()\n",
    "\n",
    "df_clean.to_csv('Airbnb_Open_Data.cleaned.csv', index=True)"
   ]
  }
 ],
 "metadata": {
  "kernelspec": {
   "display_name": "Python 3",
   "language": "python",
   "name": "python3"
  },
  "language_info": {
   "codemirror_mode": {
    "name": "ipython",
    "version": 3
   },
   "file_extension": ".py",
   "mimetype": "text/x-python",
   "name": "python",
   "nbconvert_exporter": "python",
   "pygments_lexer": "ipython3",
   "version": "3.11.9"
  }
 },
 "nbformat": 4,
 "nbformat_minor": 2
}
