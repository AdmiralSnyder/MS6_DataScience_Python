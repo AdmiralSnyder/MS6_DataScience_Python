{
 "cells": [
  {
   "cell_type": "markdown",
   "metadata": {},
   "source": [
    "Q2: Write a python / R function to simulate the Goat-car door open problem (Monty Hall problem) 100 times. write the conclusion and what do you think? -15pt"
   ]
  },
  {
   "cell_type": "code",
   "execution_count": 6,
   "metadata": {},
   "outputs": [],
   "source": [
    "from random import randrange\n",
    "\n",
    "import math\n",
    "\n",
    "def RomeoMeetsJuliet(romeoStart, romeoLeave, julietStart, julietLeave, waitPeriod):\n",
    "    meetCount = 0\n",
    "    totalCount = 0\n",
    "    for romeo in range(romeoStart, romeoLeave):\n",
    "        for juliet in range(julietStart, julietLeave):\n",
    "            totalCount += 1\n",
    "            if abs(romeo-juliet) <= waitPeriod:\n",
    "                meetCount += 1\n",
    "\n",
    "    return [meetCount, totalCount]\n",
    "        "
   ]
  },
  {
   "cell_type": "code",
   "execution_count": 7,
   "metadata": {},
   "outputs": [
    {
     "ename": "UnboundLocalError",
     "evalue": "cannot access local variable 'totalcount' where it is not associated with a value",
     "output_type": "error",
     "traceback": [
      "\u001b[1;31m---------------------------------------------------------------------------\u001b[0m",
      "\u001b[1;31mUnboundLocalError\u001b[0m                         Traceback (most recent call last)",
      "Cell \u001b[1;32mIn[7], line 1\u001b[0m\n\u001b[1;32m----> 1\u001b[0m \u001b[43mRomeoMeetsJuliet\u001b[49m\u001b[43m(\u001b[49m\u001b[38;5;241;43m0\u001b[39;49m\u001b[43m,\u001b[49m\u001b[43m \u001b[49m\u001b[38;5;241;43m60\u001b[39;49m\u001b[43m,\u001b[49m\u001b[43m \u001b[49m\u001b[38;5;241;43m30\u001b[39;49m\u001b[43m,\u001b[49m\u001b[43m \u001b[49m\u001b[38;5;241;43m60\u001b[39;49m\u001b[43m,\u001b[49m\u001b[43m \u001b[49m\u001b[38;5;241;43m10\u001b[39;49m\u001b[43m)\u001b[49m\n",
      "Cell \u001b[1;32mIn[6], line 10\u001b[0m, in \u001b[0;36mRomeoMeetsJuliet\u001b[1;34m(romeoStart, romeoLeave, julietStart, julietLeave, waitPeriod)\u001b[0m\n\u001b[0;32m      8\u001b[0m \u001b[38;5;28;01mfor\u001b[39;00m romeo \u001b[38;5;129;01min\u001b[39;00m \u001b[38;5;28mrange\u001b[39m(romeoStart, romeoLeave):\n\u001b[0;32m      9\u001b[0m     \u001b[38;5;28;01mfor\u001b[39;00m juliet \u001b[38;5;129;01min\u001b[39;00m \u001b[38;5;28mrange\u001b[39m(julietStart, julietLeave):\n\u001b[1;32m---> 10\u001b[0m         \u001b[43mtotalcount\u001b[49m \u001b[38;5;241m+\u001b[39m\u001b[38;5;241m=\u001b[39m \u001b[38;5;241m1\u001b[39m\n\u001b[0;32m     11\u001b[0m         \u001b[38;5;28;01mif\u001b[39;00m \u001b[38;5;28mabs\u001b[39m(romeo\u001b[38;5;241m-\u001b[39mjuliet) \u001b[38;5;241m<\u001b[39m\u001b[38;5;241m=\u001b[39m waitPeriod:\n\u001b[0;32m     12\u001b[0m             meetCount \u001b[38;5;241m+\u001b[39m\u001b[38;5;241m=\u001b[39m \u001b[38;5;241m1\u001b[39m\n",
      "\u001b[1;31mUnboundLocalError\u001b[0m: cannot access local variable 'totalcount' where it is not associated with a value"
     ]
    }
   ],
   "source": [
    "RomeoMeetsJuliet(0, 60, 30, 60, 10)"
   ]
  }
 ],
 "metadata": {
  "kernelspec": {
   "display_name": "Python 3",
   "language": "python",
   "name": "python3"
  },
  "language_info": {
   "codemirror_mode": {
    "name": "ipython",
    "version": 3
   },
   "file_extension": ".py",
   "mimetype": "text/x-python",
   "name": "python",
   "nbconvert_exporter": "python",
   "pygments_lexer": "ipython3",
   "version": "3.11.9"
  }
 },
 "nbformat": 4,
 "nbformat_minor": 2
}
