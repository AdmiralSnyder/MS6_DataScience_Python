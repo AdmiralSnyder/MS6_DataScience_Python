{
 "cells": [
  {
   "cell_type": "markdown",
   "metadata": {},
   "source": [
    "Q2: Write a python / R function to simulate the Goat-car door open problem (Monty Hall problem) 100 times. write the conclusion and what do you think? -15pt"
   ]
  },
  {
   "cell_type": "code",
   "execution_count": 12,
   "metadata": {},
   "outputs": [],
   "source": [
    "from random import randrange\n",
    "\n",
    "import math\n",
    "\n",
    "def RomeoMeetsJuliet(romeoStart, romeoLeave, julietStart, julietLeave, waitPeriod):\n",
    "    meetCount = 0\n",
    "    totalCount = 0\n",
    "    for romeo in range(romeoStart, romeoLeave):\n",
    "        for juliet in range(julietStart, julietLeave):\n",
    "            totalCount += 1\n",
    "            if abs(romeo-juliet) <= waitPeriod:\n",
    "                #print(\"Romeo: \" + str(romeo) + \" Juliet: \" + str(juliet))\n",
    "                meetCount += 1\n",
    "\n",
    "    return [meetCount, totalCount]\n",
    "        "
   ]
  },
  {
   "cell_type": "code",
   "execution_count": 13,
   "metadata": {},
   "outputs": [
    {
     "data": {
      "text/plain": [
       "[575, 1800]"
      ]
     },
     "execution_count": 13,
     "metadata": {},
     "output_type": "execute_result"
    }
   ],
   "source": [
    "RomeoMeetsJuliet(0, 60, 30, 60, 10)"
   ]
  },
  {
   "cell_type": "code",
   "execution_count": 14,
   "metadata": {},
   "outputs": [
    {
     "data": {
      "text/plain": [
       "[1981500, 6480000]"
      ]
     },
     "execution_count": 14,
     "metadata": {},
     "output_type": "execute_result"
    }
   ],
   "source": [
    "RomeoMeetsJuliet(0, 60*60, 30*60, 60*60, 10*60)"
   ]
  },
  {
   "cell_type": "code",
   "execution_count": 16,
   "metadata": {},
   "outputs": [
    {
     "data": {
      "text/plain": [
       "[198015000, 648000000]"
      ]
     },
     "execution_count": 16,
     "metadata": {},
     "output_type": "execute_result"
    }
   ],
   "source": [
    "RomeoMeetsJuliet(0, 60*60*10, 30*60*10, 60*60*10, 10*60*10)"
   ]
  }
 ],
 "metadata": {
  "kernelspec": {
   "display_name": "Python 3",
   "language": "python",
   "name": "python3"
  },
  "language_info": {
   "codemirror_mode": {
    "name": "ipython",
    "version": 3
   },
   "file_extension": ".py",
   "mimetype": "text/x-python",
   "name": "python",
   "nbconvert_exporter": "python",
   "pygments_lexer": "ipython3",
   "version": "3.11.9"
  }
 },
 "nbformat": 4,
 "nbformat_minor": 2
}
