{
 "cells": [
  {
   "cell_type": "markdown",
   "metadata": {},
   "source": [
    "Q2: Write a python / R function to simulate the Goat-car door open problem (Monty Hall problem) 100 times. write the conclusion and what do you think? -15pt"
   ]
  },
  {
   "cell_type": "code",
   "execution_count": 1,
   "metadata": {},
   "outputs": [],
   "source": [
    "from random import randrange\n",
    "\n",
    "import math\n",
    "\n",
    "def montyHall(n):\n",
    "    # create a list to store the results\n",
    "    winSwitchCount = 0\n",
    "    winStayCount = 0\n",
    "    # loop through the number of times we want to play the game\n",
    "    for i in range(n):\n",
    "        # randomly select the door with the car behind it\n",
    "        car = randrange(3)\n",
    "        # randomly select the door the contestant selects\n",
    "        choice = randrange(3)\n",
    "        if car == choice :\n",
    "            if car == 0 :\n",
    "                monty = 1\n",
    "            else:\n",
    "                monty = 0\n",
    "        else:\n",
    "            if (car == 0) and (choice == 1):\n",
    "                monty = 2\n",
    "            elif (car == 0) and (choice == 2):\n",
    "                monty = 1\n",
    "            elif (car == 1) and (choice == 0):\n",
    "                monty = 2\n",
    "            elif (car == 1) and (choice == 2):\n",
    "                monty = 0\n",
    "            elif (car == 2) and (choice == 0):\n",
    "                monty = 1\n",
    "            elif (car == 2) and (choice == 1):\n",
    "                monty = 0\n",
    "        # randomly decide whether to switch or not\n",
    "        switch = randrange(2)\n",
    "        # if the contestant switches\n",
    "        if switch == 1:\n",
    "            # if the contestant switches to the door with the car\n",
    "            if car == choice:\n",
    "                winStayCount += 1\n",
    "            else:\n",
    "                winSwitchCount += 1\n",
    "        else:\n",
    "            if car == choice:\n",
    "                winStayCount += 1\n",
    "            else:\n",
    "                winSwitchCount += 1\n",
    "    # return the results\n",
    "    return [ winStayCount, winSwitchCount]\n",
    "        "
   ]
  },
  {
   "cell_type": "code",
   "execution_count": 16,
   "metadata": {},
   "outputs": [
    {
     "name": "stdout",
     "output_type": "stream",
     "text": [
      "[35, 65]\n",
      "[35, 65]\n",
      "[36, 64]\n",
      "[27, 73]\n",
      "[29, 71]\n",
      "[28, 72]\n",
      "[36, 64]\n",
      "[37, 63]\n",
      "[25, 75]\n",
      "[26, 74]\n",
      "[39, 61]\n"
     ]
    }
   ],
   "source": [
    "for i in range(11):\n",
    "    print (montyHall(100))"
   ]
  }
 ],
 "metadata": {
  "kernelspec": {
   "display_name": "Python 3",
   "language": "python",
   "name": "python3"
  },
  "language_info": {
   "codemirror_mode": {
    "name": "ipython",
    "version": 3
   },
   "file_extension": ".py",
   "mimetype": "text/x-python",
   "name": "python",
   "nbconvert_exporter": "python",
   "pygments_lexer": "ipython3",
   "version": "3.11.9"
  }
 },
 "nbformat": 4,
 "nbformat_minor": 2
}
